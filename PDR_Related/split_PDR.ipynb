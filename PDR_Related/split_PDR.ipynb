{
 "cells": [
  {
   "cell_type": "code",
   "execution_count": 1,
   "metadata": {},
   "outputs": [],
   "source": [
    "#Every monday refresh, use this file to split consolidated PDR NA into two files, uploading to APEX tables\n",
    "\n",
    "import pandas as pd\n",
    "from datetime import datetime\n",
    "import os\n",
    "\n",
    "# Load the Excel file into a DataFrame\n",
    "excel_file_path = r'C:\\Users\\June Lin\\Oracle Content\\June Lin\\Recurring Reports\\NA\\Consolidated_PDR_NA_v3.xlsx'\n",
    "df = pd.read_excel(excel_file_path)\n",
    "\n",
    "# Get the current date in the format YYYYMMDD\n",
    "today_date = datetime.now().strftime('%Y%m%d')\n",
    "\n",
    "# Create a folder with today's date if it doesn't exist\n",
    "output_folder = os.path.join(r'C:\\Users\\June Lin\\Oracle Content\\June Lin\\Recurring Reports\\NA', today_date)\n",
    "os.makedirs(output_folder, exist_ok=True)\n",
    "\n",
    "# Get the number of rows in the DataFrame\n",
    "num_rows = len(df)\n",
    "\n",
    "# Calculate the midpoint to split the data into two equal parts\n",
    "midpoint = num_rows // 2\n",
    "\n",
    "# Split the DataFrame into two parts\n",
    "df1 = df.iloc[:midpoint, :]\n",
    "df2 = df.iloc[midpoint:, :]\n",
    "\n",
    "# Save the two DataFrames to separate Excel files within the folder\n",
    "output_file1 = os.path.join(output_folder, 'file1.xlsx')\n",
    "output_file2 = os.path.join(output_folder, 'file2.xlsx')\n",
    "\n",
    "df1.to_excel(output_file1, index=False)\n",
    "df2.to_excel(output_file2, index=False)\n"
   ]
  },
  {
   "cell_type": "code",
   "execution_count": null,
   "metadata": {},
   "outputs": [],
   "source": []
  }
 ],
 "metadata": {
  "kernelspec": {
   "display_name": "Python 3",
   "language": "python",
   "name": "python3"
  },
  "language_info": {
   "codemirror_mode": {
    "name": "ipython",
    "version": 3
   },
   "file_extension": ".py",
   "mimetype": "text/x-python",
   "name": "python",
   "nbconvert_exporter": "python",
   "pygments_lexer": "ipython3",
   "version": "3.11.9"
  }
 },
 "nbformat": 4,
 "nbformat_minor": 2
}
