{
 "cells": [
  {
   "cell_type": "code",
   "execution_count": 1,
   "metadata": {},
   "outputs": [],
   "source": [
    "import pandas as pd\n",
    "import os\n",
    "\n",
    "# Define the directory where your Excel files are located\n",
    "directory = 'C:\\\\Users\\\\June Lin\\\\Oracle Content\\\\June Lin\\\\Recurring Reports\\\\NA\\\\Rename\\\\'\n",
    "\n",
    "\n",
    "# Ensure the directory exists\n",
    "if not os.path.exists(directory):\n",
    "    os.makedirs(directory)\n",
    "\n",
    "# List of Excel files in the directory\n",
    "excel_files = [file for file in os.listdir(directory) if file.endswith(('.xls', '.xlsx'))]"
   ]
  },
  {
   "cell_type": "code",
   "execution_count": 2,
   "metadata": {},
   "outputs": [],
   "source": [
    "# Dictionary to store assignment date range for each file\n",
    "assignment_dates = {}\n",
    "\n",
    "# Columns to convert to datetime format\n",
    "date_columns = ['Contract Close Date', 'Funding Date', 'Assignment Date', 'Payment Due Date']\n",
    "\n",
    "# Read assignment date from each Excel file\n",
    "for file in excel_files:\n",
    "    # Construct the file path\n",
    "    file_path = os.path.join(directory, file)\n",
    "    \n",
    "    # Read the Excel file and get the first sheet name\n",
    "    if file.endswith('.xls'):\n",
    "        # Read the HTML table\n",
    "        df = pd.read_html(file_path)[0]\n",
    "        sheet_name = 'Payment Details'  # Default sheet name as HTML does not store sheet name\n",
    "    else:\n",
    "        xls = pd.ExcelFile(file_path)\n",
    "        sheet_name = xls.sheet_names[0]\n",
    "        df = pd.read_excel(file_path, sheet_name=sheet_name)  # Read .xlsx file\n",
    "\n",
    "    # Convert specified columns to datetime format and format them as m/d/YYYY\n",
    "    for col in date_columns:\n",
    "        if col in df.columns:\n",
    "            # Attempt to convert the column to datetime\n",
    "            df[col] = pd.to_datetime(df[col].str.strip(), format='%d-%b-%Y', errors='coerce')  # Convert to datetime and strip any spaces\n",
    "            df[col] = df[col].dt.strftime('%#m/%#d/%Y')  # Format as m/d/YYYY\n",
    "            df[col] = df[col].fillna('')  # Fill NaT with empty string or a default date if required\n",
    "\n",
    "    # Extract assignment date from column 16, row 2 (since columns and rows are 0-indexed in pandas)\n",
    "    assignment_date = df.iloc[1, 15]  # Ensure the correct column index\n",
    "    assignment_dates[file] = pd.to_datetime(assignment_date)\n",
    "\n",
    "    # Construct the new file path for saving as .xlsx\n",
    "    new_file_path = os.path.join(directory, os.path.splitext(file)[0] + '.xlsx')\n",
    "\n",
    "    # Save the DataFrame as .xlsx\n",
    "    with pd.ExcelWriter(new_file_path, engine='openpyxl') as writer:\n",
    "        df.to_excel(writer, sheet_name=sheet_name, index=False)\n"
   ]
  },
  {
   "cell_type": "code",
   "execution_count": 3,
   "metadata": {},
   "outputs": [],
   "source": [
    "# Read the table listing file name and assignment date range\n",
    "criteria_df = pd.read_excel(r'C:\\Users\\June Lin\\Oracle Content\\June Lin\\Recurring Reports\\NA\\assignment_dateRange_NAS.xlsx') # Update with your criteria table file path"
   ]
  },
  {
   "cell_type": "code",
   "execution_count": 4,
   "metadata": {},
   "outputs": [
    {
     "name": "stdout",
     "output_type": "stream",
     "text": [
      "Files renamed successfully!\n"
     ]
    }
   ],
   "source": [
    "# Check if assignment date falls under the criteria and rename the file accordingly\n",
    "for file, date in assignment_dates.items():\n",
    "    for _, row in criteria_df.iterrows():\n",
    "        if row['Start Date'] <= date <= row['End Date']:\n",
    "            new_file_name = f\"{row['File Name']}\"  # Ensure the new file name has the .xlsx extension\n",
    "            new_file_path = os.path.join(directory, new_file_name)\n",
    "            \n",
    "            # Check if a file with the new name already exists and handle the conflict\n",
    "            if os.path.exists(new_file_path):\n",
    "                print(f\"File {new_file_name} already exists. Skipping rename for {file}.\")\n",
    "                continue\n",
    "            \n",
    "            # Rename the file\n",
    "            original_file_path = os.path.join(directory, os.path.splitext(file)[0] + '.xlsx')\n",
    "            if os.path.exists(original_file_path):\n",
    "                os.rename(original_file_path, new_file_path)\n",
    "            else:\n",
    "                print(f\"Original file {original_file_path} does not exist. Skipping.\")\n",
    "            break\n",
    "\n",
    "print(\"Files renamed successfully!\")"
   ]
  },
  {
   "cell_type": "code",
   "execution_count": 5,
   "metadata": {},
   "outputs": [
    {
     "name": "stdout",
     "output_type": "stream",
     "text": [
      "Filtered data saved to C:\\Users\\June Lin\\Oracle Content\\June Lin\\Recurring Reports\\NA\\Rename\\PaymentDetails_NA_20230101_20230331_amend(excl 172629).xlsx\n",
      "Filtered data saved to C:\\Users\\June Lin\\Oracle Content\\June Lin\\Recurring Reports\\NA\\Rename\\PaymentDetails_NA_20230901_20231031_amend(excl 181710).xlsx\n"
     ]
    }
   ],
   "source": [
    "### Cover Payment details reports after 2021 ###\n",
    "\n",
    "# Excluding Deal 172629 from the file\n",
    "d_file_path = r'C:\\Users\\June Lin\\Oracle Content\\June Lin\\Recurring Reports\\NA\\Rename\\PaymentDetails_NA_20230101_20230331_amend(excl 172629).xlsx'\n",
    "\n",
    "# Read the Excel file into a DataFrame\n",
    "df = pd.read_excel(d_file_path)\n",
    "\n",
    "# Filter out rows where 'deal id' is 172629\n",
    "df_filtered = df[df['Deal Id'] != 172629]\n",
    "\n",
    "# Save the filtered DataFrame to a new Excel file\n",
    "df_filtered.to_excel(d_file_path, sheet_name=sheet_name, index=False)\n",
    "print(f'Filtered data saved to {d_file_path}')\n",
    "# Excluding Deal 181710 from the file\n",
    "d_file_path = r'C:\\Users\\June Lin\\Oracle Content\\June Lin\\Recurring Reports\\NA\\Rename\\PaymentDetails_NA_20230901_20231031_amend(excl 181710).xlsx'\n",
    "\n",
    "# Read the Excel file into a DataFrame\n",
    "df = pd.read_excel(d_file_path)\n",
    "\n",
    "# Filter out rows where 'deal id' is 172629\n",
    "df_filtered = df[df['Deal Id'] != 181710]\n",
    "\n",
    "# Save the filtered DataFrame to a new Excel file\n",
    "df_filtered.to_excel(d_file_path, sheet_name=sheet_name, index=False)\n",
    "print(f'Filtered data saved to {d_file_path}')"
   ]
  },
  {
   "cell_type": "code",
   "execution_count": 6,
   "metadata": {},
   "outputs": [
    {
     "ename": "FileNotFoundError",
     "evalue": "[Errno 2] No such file or directory: 'C:\\\\Users\\\\June Lin\\\\Oracle Content\\\\June Lin\\\\Recurring Reports\\\\NA\\\\Rename\\\\PaymentDetails_NA_20181001_20181231_amend(excl 95885).xlsx'",
     "output_type": "error",
     "traceback": [
      "\u001b[1;31m---------------------------------------------------------------------------\u001b[0m",
      "\u001b[1;31mFileNotFoundError\u001b[0m                         Traceback (most recent call last)",
      "Cell \u001b[1;32mIn[6], line 6\u001b[0m\n\u001b[0;32m      3\u001b[0m d_file_path \u001b[38;5;241m=\u001b[39m \u001b[38;5;124mr\u001b[39m\u001b[38;5;124m'\u001b[39m\u001b[38;5;124mC:\u001b[39m\u001b[38;5;124m\\\u001b[39m\u001b[38;5;124mUsers\u001b[39m\u001b[38;5;124m\\\u001b[39m\u001b[38;5;124mJune Lin\u001b[39m\u001b[38;5;124m\\\u001b[39m\u001b[38;5;124mOracle Content\u001b[39m\u001b[38;5;124m\\\u001b[39m\u001b[38;5;124mJune Lin\u001b[39m\u001b[38;5;124m\\\u001b[39m\u001b[38;5;124mRecurring Reports\u001b[39m\u001b[38;5;124m\\\u001b[39m\u001b[38;5;124mNA\u001b[39m\u001b[38;5;124m\\\u001b[39m\u001b[38;5;124mRename\u001b[39m\u001b[38;5;124m\\\u001b[39m\u001b[38;5;124mPaymentDetails_NA_20181001_20181231_amend(excl 95885).xlsx\u001b[39m\u001b[38;5;124m'\u001b[39m\n\u001b[0;32m      5\u001b[0m \u001b[38;5;66;03m# Read the Excel file into a DataFrame\u001b[39;00m\n\u001b[1;32m----> 6\u001b[0m df \u001b[38;5;241m=\u001b[39m \u001b[43mpd\u001b[49m\u001b[38;5;241;43m.\u001b[39;49m\u001b[43mread_excel\u001b[49m\u001b[43m(\u001b[49m\u001b[43md_file_path\u001b[49m\u001b[43m)\u001b[49m\n\u001b[0;32m      8\u001b[0m \u001b[38;5;66;03m# Filter out rows where 'deal id' is 95885\u001b[39;00m\n\u001b[0;32m      9\u001b[0m df_filtered \u001b[38;5;241m=\u001b[39m df[df[\u001b[38;5;124m'\u001b[39m\u001b[38;5;124mDeal Id\u001b[39m\u001b[38;5;124m'\u001b[39m] \u001b[38;5;241m!=\u001b[39m \u001b[38;5;241m95885\u001b[39m]\n",
      "File \u001b[1;32m~\\AppData\\Local\\Packages\\PythonSoftwareFoundation.Python.3.11_qbz5n2kfra8p0\\LocalCache\\local-packages\\Python311\\site-packages\\pandas\\io\\excel\\_base.py:504\u001b[0m, in \u001b[0;36mread_excel\u001b[1;34m(io, sheet_name, header, names, index_col, usecols, dtype, engine, converters, true_values, false_values, skiprows, nrows, na_values, keep_default_na, na_filter, verbose, parse_dates, date_parser, date_format, thousands, decimal, comment, skipfooter, storage_options, dtype_backend, engine_kwargs)\u001b[0m\n\u001b[0;32m    502\u001b[0m \u001b[38;5;28;01mif\u001b[39;00m \u001b[38;5;129;01mnot\u001b[39;00m \u001b[38;5;28misinstance\u001b[39m(io, ExcelFile):\n\u001b[0;32m    503\u001b[0m     should_close \u001b[38;5;241m=\u001b[39m \u001b[38;5;28;01mTrue\u001b[39;00m\n\u001b[1;32m--> 504\u001b[0m     io \u001b[38;5;241m=\u001b[39m \u001b[43mExcelFile\u001b[49m\u001b[43m(\u001b[49m\n\u001b[0;32m    505\u001b[0m \u001b[43m        \u001b[49m\u001b[43mio\u001b[49m\u001b[43m,\u001b[49m\n\u001b[0;32m    506\u001b[0m \u001b[43m        \u001b[49m\u001b[43mstorage_options\u001b[49m\u001b[38;5;241;43m=\u001b[39;49m\u001b[43mstorage_options\u001b[49m\u001b[43m,\u001b[49m\n\u001b[0;32m    507\u001b[0m \u001b[43m        \u001b[49m\u001b[43mengine\u001b[49m\u001b[38;5;241;43m=\u001b[39;49m\u001b[43mengine\u001b[49m\u001b[43m,\u001b[49m\n\u001b[0;32m    508\u001b[0m \u001b[43m        \u001b[49m\u001b[43mengine_kwargs\u001b[49m\u001b[38;5;241;43m=\u001b[39;49m\u001b[43mengine_kwargs\u001b[49m\u001b[43m,\u001b[49m\n\u001b[0;32m    509\u001b[0m \u001b[43m    \u001b[49m\u001b[43m)\u001b[49m\n\u001b[0;32m    510\u001b[0m \u001b[38;5;28;01melif\u001b[39;00m engine \u001b[38;5;129;01mand\u001b[39;00m engine \u001b[38;5;241m!=\u001b[39m io\u001b[38;5;241m.\u001b[39mengine:\n\u001b[0;32m    511\u001b[0m     \u001b[38;5;28;01mraise\u001b[39;00m \u001b[38;5;167;01mValueError\u001b[39;00m(\n\u001b[0;32m    512\u001b[0m         \u001b[38;5;124m\"\u001b[39m\u001b[38;5;124mEngine should not be specified when passing \u001b[39m\u001b[38;5;124m\"\u001b[39m\n\u001b[0;32m    513\u001b[0m         \u001b[38;5;124m\"\u001b[39m\u001b[38;5;124man ExcelFile - ExcelFile already has the engine set\u001b[39m\u001b[38;5;124m\"\u001b[39m\n\u001b[0;32m    514\u001b[0m     )\n",
      "File \u001b[1;32m~\\AppData\\Local\\Packages\\PythonSoftwareFoundation.Python.3.11_qbz5n2kfra8p0\\LocalCache\\local-packages\\Python311\\site-packages\\pandas\\io\\excel\\_base.py:1563\u001b[0m, in \u001b[0;36mExcelFile.__init__\u001b[1;34m(self, path_or_buffer, engine, storage_options, engine_kwargs)\u001b[0m\n\u001b[0;32m   1561\u001b[0m     ext \u001b[38;5;241m=\u001b[39m \u001b[38;5;124m\"\u001b[39m\u001b[38;5;124mxls\u001b[39m\u001b[38;5;124m\"\u001b[39m\n\u001b[0;32m   1562\u001b[0m \u001b[38;5;28;01melse\u001b[39;00m:\n\u001b[1;32m-> 1563\u001b[0m     ext \u001b[38;5;241m=\u001b[39m \u001b[43minspect_excel_format\u001b[49m\u001b[43m(\u001b[49m\n\u001b[0;32m   1564\u001b[0m \u001b[43m        \u001b[49m\u001b[43mcontent_or_path\u001b[49m\u001b[38;5;241;43m=\u001b[39;49m\u001b[43mpath_or_buffer\u001b[49m\u001b[43m,\u001b[49m\u001b[43m \u001b[49m\u001b[43mstorage_options\u001b[49m\u001b[38;5;241;43m=\u001b[39;49m\u001b[43mstorage_options\u001b[49m\n\u001b[0;32m   1565\u001b[0m \u001b[43m    \u001b[49m\u001b[43m)\u001b[49m\n\u001b[0;32m   1566\u001b[0m     \u001b[38;5;28;01mif\u001b[39;00m ext \u001b[38;5;129;01mis\u001b[39;00m \u001b[38;5;28;01mNone\u001b[39;00m:\n\u001b[0;32m   1567\u001b[0m         \u001b[38;5;28;01mraise\u001b[39;00m \u001b[38;5;167;01mValueError\u001b[39;00m(\n\u001b[0;32m   1568\u001b[0m             \u001b[38;5;124m\"\u001b[39m\u001b[38;5;124mExcel file format cannot be determined, you must specify \u001b[39m\u001b[38;5;124m\"\u001b[39m\n\u001b[0;32m   1569\u001b[0m             \u001b[38;5;124m\"\u001b[39m\u001b[38;5;124man engine manually.\u001b[39m\u001b[38;5;124m\"\u001b[39m\n\u001b[0;32m   1570\u001b[0m         )\n",
      "File \u001b[1;32m~\\AppData\\Local\\Packages\\PythonSoftwareFoundation.Python.3.11_qbz5n2kfra8p0\\LocalCache\\local-packages\\Python311\\site-packages\\pandas\\io\\excel\\_base.py:1419\u001b[0m, in \u001b[0;36minspect_excel_format\u001b[1;34m(content_or_path, storage_options)\u001b[0m\n\u001b[0;32m   1416\u001b[0m \u001b[38;5;28;01mif\u001b[39;00m \u001b[38;5;28misinstance\u001b[39m(content_or_path, \u001b[38;5;28mbytes\u001b[39m):\n\u001b[0;32m   1417\u001b[0m     content_or_path \u001b[38;5;241m=\u001b[39m BytesIO(content_or_path)\n\u001b[1;32m-> 1419\u001b[0m \u001b[38;5;28;01mwith\u001b[39;00m \u001b[43mget_handle\u001b[49m\u001b[43m(\u001b[49m\n\u001b[0;32m   1420\u001b[0m \u001b[43m    \u001b[49m\u001b[43mcontent_or_path\u001b[49m\u001b[43m,\u001b[49m\u001b[43m \u001b[49m\u001b[38;5;124;43m\"\u001b[39;49m\u001b[38;5;124;43mrb\u001b[39;49m\u001b[38;5;124;43m\"\u001b[39;49m\u001b[43m,\u001b[49m\u001b[43m \u001b[49m\u001b[43mstorage_options\u001b[49m\u001b[38;5;241;43m=\u001b[39;49m\u001b[43mstorage_options\u001b[49m\u001b[43m,\u001b[49m\u001b[43m \u001b[49m\u001b[43mis_text\u001b[49m\u001b[38;5;241;43m=\u001b[39;49m\u001b[38;5;28;43;01mFalse\u001b[39;49;00m\n\u001b[0;32m   1421\u001b[0m \u001b[43m\u001b[49m\u001b[43m)\u001b[49m \u001b[38;5;28;01mas\u001b[39;00m handle:\n\u001b[0;32m   1422\u001b[0m     stream \u001b[38;5;241m=\u001b[39m handle\u001b[38;5;241m.\u001b[39mhandle\n\u001b[0;32m   1423\u001b[0m     stream\u001b[38;5;241m.\u001b[39mseek(\u001b[38;5;241m0\u001b[39m)\n",
      "File \u001b[1;32m~\\AppData\\Local\\Packages\\PythonSoftwareFoundation.Python.3.11_qbz5n2kfra8p0\\LocalCache\\local-packages\\Python311\\site-packages\\pandas\\io\\common.py:872\u001b[0m, in \u001b[0;36mget_handle\u001b[1;34m(path_or_buf, mode, encoding, compression, memory_map, is_text, errors, storage_options)\u001b[0m\n\u001b[0;32m    863\u001b[0m         handle \u001b[38;5;241m=\u001b[39m \u001b[38;5;28mopen\u001b[39m(\n\u001b[0;32m    864\u001b[0m             handle,\n\u001b[0;32m    865\u001b[0m             ioargs\u001b[38;5;241m.\u001b[39mmode,\n\u001b[1;32m   (...)\u001b[0m\n\u001b[0;32m    868\u001b[0m             newline\u001b[38;5;241m=\u001b[39m\u001b[38;5;124m\"\u001b[39m\u001b[38;5;124m\"\u001b[39m,\n\u001b[0;32m    869\u001b[0m         )\n\u001b[0;32m    870\u001b[0m     \u001b[38;5;28;01melse\u001b[39;00m:\n\u001b[0;32m    871\u001b[0m         \u001b[38;5;66;03m# Binary mode\u001b[39;00m\n\u001b[1;32m--> 872\u001b[0m         handle \u001b[38;5;241m=\u001b[39m \u001b[38;5;28mopen\u001b[39m(handle, ioargs\u001b[38;5;241m.\u001b[39mmode)\n\u001b[0;32m    873\u001b[0m     handles\u001b[38;5;241m.\u001b[39mappend(handle)\n\u001b[0;32m    875\u001b[0m \u001b[38;5;66;03m# Convert BytesIO or file objects passed with an encoding\u001b[39;00m\n",
      "\u001b[1;31mFileNotFoundError\u001b[0m: [Errno 2] No such file or directory: 'C:\\\\Users\\\\June Lin\\\\Oracle Content\\\\June Lin\\\\Recurring Reports\\\\NA\\\\Rename\\\\PaymentDetails_NA_20181001_20181231_amend(excl 95885).xlsx'"
     ]
    }
   ],
   "source": [
    "### Cover Payment details reports before 2021 ###\n",
    "# Excluding Deal 95885 from the file\n",
    "d_file_path = r'C:\\Users\\June Lin\\Oracle Content\\June Lin\\Recurring Reports\\NA\\Rename\\PaymentDetails_NA_20181001_20181231_amend(excl 95885).xlsx'\n",
    "\n",
    "# Read the Excel file into a DataFrame\n",
    "df = pd.read_excel(d_file_path)\n",
    "\n",
    "# Filter out rows where 'deal id' is 95885\n",
    "df_filtered = df[df['Deal Id'] != 95885]\n",
    "\n",
    "# Save the filtered DataFrame to a new Excel file\n",
    "df_filtered.to_excel(d_file_path, sheet_name=sheet_name, index=False)\n",
    "print(f'Filtered data saved to {d_file_path}')\n",
    "# Excluding Deal 98636 from the file\n",
    "d_file_path = r'C:\\Users\\June Lin\\Oracle Content\\June Lin\\Recurring Reports\\NA\\Rename\\PaymentDetails_NA_20190401_20190531_amend(excl 98636).xlsx'\n",
    "\n",
    "# Read the Excel file into a DataFrame\n",
    "df = pd.read_excel(d_file_path)\n",
    "\n",
    "# Filter out rows where 'deal id' is 98636\n",
    "df_filtered = df[df['Deal Id'] != 98636]\n",
    "\n",
    "# Save the filtered DataFrame to a new Excel file\n",
    "df_filtered.to_excel(d_file_path, sheet_name=sheet_name, index=False)\n",
    "print(f'Filtered data saved to {d_file_path}')\n",
    "# Excluding Deal 115944 from the file\n",
    "d_file_path = r'C:\\Users\\June Lin\\Oracle Content\\June Lin\\Recurring Reports\\NA\\Rename\\PaymentDetails_NA_20200601_20200930_amend(excl 115944).xlsx'\n",
    "\n",
    "# Read the Excel file into a DataFrame\n",
    "df = pd.read_excel(d_file_path)\n",
    "\n",
    "# Filter out rows where 'deal id' is 115944\n",
    "df_filtered = df[df['Deal Id'] != 115944]\n",
    "\n",
    "# Save the filtered DataFrame to a new Excel file\n",
    "df_filtered.to_excel(d_file_path, sheet_name=sheet_name, index=False)\n",
    "print(f'Filtered data saved to {d_file_path}')"
   ]
  }
 ],
 "metadata": {
  "kernelspec": {
   "display_name": "Python 3",
   "language": "python",
   "name": "python3"
  },
  "language_info": {
   "codemirror_mode": {
    "name": "ipython",
    "version": 3
   },
   "file_extension": ".py",
   "mimetype": "text/x-python",
   "name": "python",
   "nbconvert_exporter": "python",
   "pygments_lexer": "ipython3",
   "version": "3.11.9"
  }
 },
 "nbformat": 4,
 "nbformat_minor": 2
}
