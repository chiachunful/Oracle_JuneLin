{
 "cells": [
  {
   "cell_type": "code",
   "execution_count": 4,
   "metadata": {},
   "outputs": [
    {
     "name": "stdout",
     "output_type": "stream",
     "text": [
      "Validation successful: Both files have 102261 rows.\n",
      "Excel file has been converted to CSV and saved as C:\\Users\\June Lin\\Oracle Content\\June Lin\\Recurring Reports\\EMEA\\Transform\\PDR_EMEA.csv\n"
     ]
    }
   ],
   "source": [
    "import pandas as pd\n",
    "\n",
    "# Load the Excel file\n",
    "excel_file = 'C:\\\\Users\\\\June Lin\\\\Oracle Content\\\\June Lin\\\\Recurring Reports\\\\EMEA\\\\Transform\\\\Consolidated_PDR_EMEA_v1.xlsx'\n",
    "\n",
    "# Read the Excel file into a DataFrame\n",
    "df = pd.read_excel(excel_file)\n",
    "\n",
    "# Save the DataFrame to a CSV file\n",
    "csv_file = 'C:\\\\Users\\\\June Lin\\\\Oracle Content\\\\June Lin\\\\Recurring Reports\\\\EMEA\\\\Transform\\\\PDR_EMEA.csv'\n",
    "df.to_csv(csv_file, index=False)\n",
    "\n",
    "# Reload the CSV to validate\n",
    "df_csv = pd.read_csv(csv_file)\n",
    "\n",
    "# Validate the row count\n",
    "excel_row_count = len(df)\n",
    "csv_row_count = len(df_csv)\n",
    "\n",
    "if excel_row_count == csv_row_count:\n",
    "    print(f\"Validation successful: Both files have {excel_row_count} rows.\")\n",
    "else:\n",
    "    print(f\"Validation failed: Excel file has {excel_row_count} rows, but CSV file has {csv_row_count} rows.\")\n",
    "\n",
    "print(f\"Excel file has been converted to CSV and saved as {csv_file}\")"
   ]
  }
 ],
 "metadata": {
  "kernelspec": {
   "display_name": "Python 3",
   "language": "python",
   "name": "python3"
  },
  "language_info": {
   "codemirror_mode": {
    "name": "ipython",
    "version": 3
   },
   "file_extension": ".py",
   "mimetype": "text/x-python",
   "name": "python",
   "nbconvert_exporter": "python",
   "pygments_lexer": "ipython3",
   "version": "3.11.9"
  }
 },
 "nbformat": 4,
 "nbformat_minor": 2
}
