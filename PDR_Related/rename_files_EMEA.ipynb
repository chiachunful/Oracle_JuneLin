{
 "cells": [
  {
   "cell_type": "code",
   "execution_count": 1,
   "metadata": {},
   "outputs": [],
   "source": [
    "import pandas as pd\n",
    "import os\n",
    "\n",
    "# Define the directory where your Excel files are located\n",
    "directory = 'C:\\\\Users\\\\June Lin\\\\Oracle Content\\\\June Lin\\\\Recurring Reports\\\\EMEA\\\\Rename_EMEA\\\\'\n",
    "\n",
    "\n",
    "# Ensure the directory exists\n",
    "if not os.path.exists(directory):\n",
    "    os.makedirs(directory)\n",
    "\n",
    "# List of Excel files in the directory\n",
    "excel_files = [file for file in os.listdir(directory) if file.endswith(('.xls', '.xlsx'))]"
   ]
  },
  {
   "cell_type": "code",
   "execution_count": 2,
   "metadata": {},
   "outputs": [],
   "source": [
    "# Dictionary to store assignment date range for each file\n",
    "assignment_dates = {}\n",
    "\n",
    "# Columns to convert to datetime format\n",
    "date_columns = ['Contract Close Date', 'Funding Date', 'Assignment Date', 'Payment Due Date']\n",
    "\n",
    "# Read assignment date from each Excel file\n",
    "for file in excel_files:\n",
    "    # Construct the file path\n",
    "    file_path = os.path.join(directory, file)\n",
    "    \n",
    "    # Read the Excel file and get the first sheet name\n",
    "    if file.endswith('.xls'):\n",
    "        # Read the HTML table\n",
    "        df = pd.read_html(file_path)[0]\n",
    "        sheet_name = 'Payment Details'  # Default sheet name as HTML does not store sheet name\n",
    "    else:\n",
    "        xls = pd.ExcelFile(file_path)\n",
    "        sheet_name = xls.sheet_names[0]\n",
    "        df = pd.read_excel(file_path, sheet_name=sheet_name)  # Read .xlsx file\n",
    "\n",
    "    # Convert specified columns to datetime format and format them as m/d/YYYY\n",
    "    for col in date_columns:\n",
    "        if col in df.columns:\n",
    "            # Attempt to convert the column to datetime\n",
    "            df[col] = pd.to_datetime(df[col].str.strip(), format='%d-%b-%Y', errors='coerce')  # Convert to datetime and strip any spaces\n",
    "            df[col] = df[col].dt.strftime('%#m/%#d/%Y')  # Format as m/d/YYYY\n",
    "            df[col] = df[col].fillna('')  # Fill NaT with empty string or a default date if required\n",
    "\n",
    "    # Extract assignment date from column 16, row 2 (since columns and rows are 0-indexed in pandas)\n",
    "    assignment_date = df.iloc[1, 15]  # Ensure the correct column index\n",
    "    assignment_dates[file] = pd.to_datetime(assignment_date)\n",
    "\n",
    "    # Construct the new file path for saving as .xlsx\n",
    "    new_file_path = os.path.join(directory, os.path.splitext(file)[0] + '.xlsx')\n",
    "\n",
    "    # Save the DataFrame as .xlsx\n",
    "    with pd.ExcelWriter(new_file_path, engine='openpyxl') as writer:\n",
    "        df.to_excel(writer, sheet_name=sheet_name, index=False)\n"
   ]
  },
  {
   "cell_type": "code",
   "execution_count": 3,
   "metadata": {},
   "outputs": [],
   "source": [
    "# Read the table listing file name and assignment date range\n",
    "criteria_df = pd.read_excel(r'C:\\Users\\June Lin\\Oracle Content\\June Lin\\Recurring Reports\\EMEA\\assignment_dateRange_EMEA.xlsx') # Update with your criteria table file path"
   ]
  },
  {
   "cell_type": "code",
   "execution_count": 4,
   "metadata": {},
   "outputs": [
    {
     "name": "stdout",
     "output_type": "stream",
     "text": [
      "Files renamed successfully!\n"
     ]
    }
   ],
   "source": [
    "# Check if assignment date falls under the criteria and rename the file accordingly\n",
    "for file, date in assignment_dates.items():\n",
    "    for _, row in criteria_df.iterrows():\n",
    "        if row['Start Date'] <= date <= row['End Date']:\n",
    "            new_file_name = f\"{row['File Name']}\"  # Ensure the new file name has the .xlsx extension\n",
    "            new_file_path = os.path.join(directory, new_file_name)\n",
    "            \n",
    "            # Check if a file with the new name already exists and handle the conflict\n",
    "            if os.path.exists(new_file_path):\n",
    "                print(f\"File {new_file_name} already exists. Skipping rename for {file}.\")\n",
    "                continue\n",
    "            \n",
    "            # Rename the file\n",
    "            original_file_path = os.path.join(directory, os.path.splitext(file)[0] + '.xlsx')\n",
    "            if os.path.exists(original_file_path):\n",
    "                os.rename(original_file_path, new_file_path)\n",
    "            else:\n",
    "                print(f\"Original file {original_file_path} does not exist. Skipping.\")\n",
    "            break\n",
    "\n",
    "print(\"Files renamed successfully!\")"
   ]
  }
 ],
 "metadata": {
  "kernelspec": {
   "display_name": "Python 3",
   "language": "python",
   "name": "python3"
  },
  "language_info": {
   "codemirror_mode": {
    "name": "ipython",
    "version": 3
   },
   "file_extension": ".py",
   "mimetype": "text/x-python",
   "name": "python",
   "nbconvert_exporter": "python",
   "pygments_lexer": "ipython3",
   "version": "3.11.9"
  }
 },
 "nbformat": 4,
 "nbformat_minor": 2
}
