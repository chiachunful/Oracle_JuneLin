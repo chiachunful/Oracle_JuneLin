{
 "cells": [
  {
   "cell_type": "code",
   "execution_count": 4,
   "metadata": {},
   "outputs": [
    {
     "name": "stdout",
     "output_type": "stream",
     "text": [
      "An error occurred: Unsupported format, or corrupt file: Expected BOF record; found b'<html xm'\n"
     ]
    }
   ],
   "source": [
    "import pandas as pd\n",
    "\n",
    "# Replace 'your_file.xls' with the path to your Excel file\n",
    "file_path = r'C:\\Users\\June Lin\\Oracle Content\\June Lin\\Recurring Reports\\NA\\Rename\\PaymentDetails - 2024-04-15T000328.927.xls'\n",
    "\n",
    "# Try reading the Excel file\n",
    "try:\n",
    "    # Attempt to read the Excel file\n",
    "    df = pd.read_excel(file_path, engine='xlrd')\n",
    "    \n",
    "    # Display the DataFrame\n",
    "    print(df.head())\n",
    "    \n",
    "except Exception as e:\n",
    "    print(f\"An error occurred: {e}\")"
   ]
  },
  {
   "cell_type": "code",
   "execution_count": 5,
   "metadata": {},
   "outputs": [
    {
     "name": "stdout",
     "output_type": "stream",
     "text": [
      "File successfully converted to C:\\Users\\June Lin\\Oracle Content\\June Lin\\Recurring Reports\\NA\\Rename\\output_file.xlsx\n"
     ]
    }
   ],
   "source": [
    "import pandas as pd\n",
    "\n",
    "# Replace 'your_file.xls' with the path to your incorrect .xls file\n",
    "input_file_path = r'C:\\Users\\June Lin\\Oracle Content\\June Lin\\Recurring Reports\\NA\\Rename\\PaymentDetails - 2024-04-15T000328.927.xls'\n",
    "\n",
    "# Replace 'output_file.xlsx' with the desired output file name\n",
    "output_file_path = r'C:\\Users\\June Lin\\Oracle Content\\June Lin\\Recurring Reports\\NA\\Rename\\output_file.xlsx'\n",
    "\n",
    "try:\n",
    "    # Read the HTML file into a DataFrame\n",
    "    df = pd.read_html(input_file_path)[0]  # read_html returns a list of DataFrames, so we select the first one\n",
    "    \n",
    "    # Write the DataFrame to an Excel file\n",
    "    df.to_excel(output_file_path, index=False, engine='openpyxl')\n",
    "    \n",
    "    print(f\"File successfully converted to {output_file_path}\")\n",
    "\n",
    "except Exception as e:\n",
    "    print(f\"An error occurred: {e}\")\n"
   ]
  }
 ],
 "metadata": {
  "kernelspec": {
   "display_name": "Python 3",
   "language": "python",
   "name": "python3"
  },
  "language_info": {
   "codemirror_mode": {
    "name": "ipython",
    "version": 3
   },
   "file_extension": ".py",
   "mimetype": "text/x-python",
   "name": "python",
   "nbconvert_exporter": "python",
   "pygments_lexer": "ipython3",
   "version": "3.11.9"
  }
 },
 "nbformat": 4,
 "nbformat_minor": 2
}
